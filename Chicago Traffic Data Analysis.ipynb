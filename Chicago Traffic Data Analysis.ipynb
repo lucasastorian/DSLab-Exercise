{
 "cells": [
  {
   "cell_type": "markdown",
   "metadata": {},
   "source": [
    "# Chicago Traffic Data Analysis"
   ]
  },
  {
   "cell_type": "markdown",
   "metadata": {},
   "source": [
    "Dear everybody,\n",
    "\n",
    "Thank you for your interest in the DSLab. In this Notebook, you'll be exploring a dataset containing Traffic Violations from the City of Chicago over the past few years. Please use Pandas, Seaborn, Matplotlib, and any other libraries you like to explore the data set.\n",
    "\n",
    "1. What's the average number of traffic violations per camera?\n",
    "2. What's the average number of traffic violations per day?\n",
    "3. What day of the Week has the most traffic violations?\n",
    "4. How does the number of active cameras vary during the week, and during the year?\n",
    "5. Any other interesting things you can find.\n",
    "\n",
    "Also, it would be great if you could fill out your name, bachelors degree, master degree, and any libraries / programming languages you are experience with in the cell below. \n",
    "\n",
    "You may find [this](https://www.cheatography.com/weidadeyue/cheat-sheets/jupyter-notebook/pdf_bw/) cheatsheet for Jupyter notebook helpful.\n",
    "\n",
    "Happy Coding!\n",
    "\n",
    "-Lucas"
   ]
  },
  {
   "cell_type": "markdown",
   "metadata": {},
   "source": [
    "### What's your name, degree, and what libraries/languages do you feel confident with?"
   ]
  },
  {
   "cell_type": "markdown",
   "metadata": {},
   "source": []
  },
  {
   "cell_type": "code",
   "execution_count": 1,
   "metadata": {},
   "outputs": [],
   "source": [
    "import numpy as np\n",
    "import pandas as pd\n",
    "import matplotlib.pyplot as plt\n",
    "import seaborn as sns\n",
    "\n",
    "sns.set()"
   ]
  },
  {
   "cell_type": "code",
   "execution_count": null,
   "metadata": {},
   "outputs": [],
   "source": []
  }
 ],
 "metadata": {
  "kernelspec": {
   "display_name": "Python 3",
   "language": "python",
   "name": "python3"
  },
  "language_info": {
   "codemirror_mode": {
    "name": "ipython",
    "version": 3
   },
   "file_extension": ".py",
   "mimetype": "text/x-python",
   "name": "python",
   "nbconvert_exporter": "python",
   "pygments_lexer": "ipython3",
   "version": "3.7.3"
  }
 },
 "nbformat": 4,
 "nbformat_minor": 2
}
